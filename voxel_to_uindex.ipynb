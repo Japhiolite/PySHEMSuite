{
 "cells": [
  {
   "cell_type": "code",
   "execution_count": 15,
   "metadata": {
    "collapsed": true,
    "extensions": {
     "jupyter_dashboards": {
      "version": 1,
      "views": {
       "grid_default": {
        "hidden": true
       },
       "report_default": {}
      }
     }
    }
   },
   "outputs": [],
   "source": [
    "import numpy as np\n",
    "import itertools\n",
    "import collections\n",
    "import os,sys\n",
    "import scipy.constants"
   ]
  },
  {
   "cell_type": "code",
   "execution_count": 21,
   "metadata": {
    "collapsed": false
   },
   "outputs": [
    {
     "data": {
      "text/plain": [
       "8.3144598"
      ]
     },
     "execution_count": 21,
     "metadata": {},
     "output_type": "execute_result"
    }
   ],
   "source": [
    "scipy.constants.gas_constant"
   ]
  },
  {
   "cell_type": "code",
   "execution_count": 2,
   "metadata": {
    "collapsed": false,
    "extensions": {
     "jupyter_dashboards": {
      "version": 1,
      "views": {
       "grid_default": {
        "col": 0,
        "height": 5,
        "hidden": false,
        "row": 0,
        "width": 4
       },
       "report_default": {}
      }
     }
    }
   },
   "outputs": [
    {
     "name": "stdout",
     "output_type": "stream",
     "text": [
      "Warning: nodata_value in line 9.\n",
      "There are cells above the surface.\n",
      "See TOP_BC_TutA_export for boundary conditions.\n"
     ]
    }
   ],
   "source": [
    "with open('TutA_export.vox') as f:\n",
    "    data = [line.split() for line in f]\n",
    "    info = dict((var.strip(), float(num.strip())) for var, num in data[0:9])\n",
    "    if data[9] == ['nodata_value', 'out']:\n",
    "        print(\"Warning: nodata_value in line 9.\")\n",
    "        print(\"There are cells above the surface.\")\n",
    "        print(\"See TOP_BC_{} for boundary conditions.\".format(f.name[:-4]))\n",
    "        units = list(itertools.chain(*data[10:]))\n",
    "    else:\n",
    "        units = list(itertools.chein(*data[9:]))     \n",
    "\n",
    "#collections.OrderedDict(sorted(info.items(), key=lambda t: t[0]))"
   ]
  },
  {
   "cell_type": "code",
   "execution_count": 48,
   "metadata": {
    "collapsed": true
   },
   "outputs": [],
   "source": [
    "try:\n",
    "    fT = open(\"TOP_BC_{}.temp\".format(f.name[:-4]),'w')\n",
    "    fh = open(\"TOP_BC_{}.head\".format(f.name[:-4]),'w')\n",
    "    fp = open(\"TOP_BC_{}.pres\".format(f.name[:-4]),'w')\n",
    "except IOError:\n",
    "    print(\"Can not open file TOP_BC_{}.temp for writing\".format(f.name[:-4]))\n",
    "    print(\"Can not open file TOP_BC_{}.head for writing\".format(f.name[:-4]))\n",
    "    print(\"Can not open file TOP_BC_{}.pres for writing\".format(f.name[:-4]))\n",
    "    "
   ]
  },
  {
   "cell_type": "code",
   "execution_count": 37,
   "metadata": {
    "collapsed": false
   },
   "outputs": [],
   "source": [
    "p0 = 0.101325\n",
    "lapserate = -0.0065\n",
    "t_surf = 288.15\n",
    "pres = p0 * (1 + lapserate/t_surf * (iz*info['dz'] + info['z0']))**((-scipy.constants.g*0.0289644)/(lapserate*scipy.constants.R))"
   ]
  },
  {
   "cell_type": "code",
   "execution_count": 57,
   "metadata": {
    "collapsed": false,
    "extensions": {
     "jupyter_dashboards": {
      "version": 1,
      "views": {
       "grid_default": {
        "hidden": true
       },
       "report_default": {}
      }
     }
    }
   },
   "outputs": [],
   "source": [
    "try:\n",
    "    fT = open(\"TOP_BC_{}.temp\".format(f.name[:-4]),'w')\n",
    "    fh = open(\"TOP_BC_{}.head\".format(f.name[:-4]),'w')\n",
    "    fp = open(\"TOP_BC_{}.pres\".format(f.name[:-4]),'w')\n",
    "except IOError:\n",
    "    print(\"Can not open file TOP_BC_{}.temp for writing\".format(f.name[:-4]))\n",
    "    print(\"Can not open file TOP_BC_{}.head for writing\".format(f.name[:-4]))\n",
    "    print(\"Can not open file TOP_BC_{}.pres for writing\".format(f.name[:-4]))\n",
    "    \n",
    "\n",
    "\n",
    "\n",
    "nxyz = int(info['nx']*info['ny']*info['nz'])\n",
    "unui = {}\n",
    "uindex = 1\n",
    "count = 1\n",
    "form = units[0]\n",
    "uindex_field = []\n",
    "s = \"\"\n",
    "ix = 1\n",
    "iy = 1\n",
    "iz = 1\n",
    "p0 = .101325\n",
    "lapserate = -0.0065\n",
    "t_surf = 286.15\n",
    "\n",
    "for i in range(1,nxyz):\n",
    "    if units[i] not in unui: # if the unit is not in the dictionary, add it\n",
    "        unui.update({units[i]:uindex})\n",
    "        uname = units[i]\n",
    "        uindex += 1 # increase the uindex for shemat\n",
    "    \n",
    "    if units[i] == units[i-1]: # count up the units found in the voxel file\n",
    "        count+=1\n",
    "    \n",
    "    else:\n",
    "        #print(\"{}*{}\".format(count,unui[units[i-1]]))\n",
    "        # append the units and write it in the format x*y until a new\n",
    "        # unit is reached\n",
    "        uindex_field.append(\"{}*{}\".format(count,unui[units[i-1]]))\n",
    "        s += \"{}*{} \".format(count,unui[units[i-1]])\n",
    "        count = 1\n",
    "    if i == (nxyz-1):\n",
    "        #print(\"{}*{}\".format(count,unui[units[i]]))\n",
    "        # don't forget to include the last unit\n",
    "        uindex_field.append(\"{}*{}\".format(count,unui[units[i]]))\n",
    "        s += \"{}*{}\".format(count,unui[units[i]])\n",
    "    \n",
    "    \n",
    "    if ix < info['nx']:\n",
    "        ix += 1\n",
    "    elif iy < info['ny']:\n",
    "        ix = 1\n",
    "        iy += 1\n",
    "    else:\n",
    "        ix = 1\n",
    "        iy = 1\n",
    "        iz += 1\n",
    "        \n",
    "    if (units[i] == 'out' and iz < info['nz']) or iz == info['nz']:\n",
    "        fT.write(\"{} {} {} {} 0 \\n\".format(ix,iy,iz, ((iz*info['dz'] + info['z0'])*lapserate + t_surf-273.15)))\n",
    "        fh.write(\"{} {} {} {} 0 \\n\".format(ix,iy,iz, head))\n",
    "        fp.write(\"{} {} {} {} 0 \\n\".format(ix,iy,iz, pres))\n",
    "    else:\n",
    "        head = iz*info['dz']\n",
    "        pres = p0 * (1 + lapserate/t_surf * (iz*info['dz'] + info['z0']))**((-scipy.constants.g*0.0289644)/(lapserate*scipy.constants.R))\n",
    "        \n",
    "\n",
    "un_counts = collections.Counter(units)\n",
    "fT.close()\n",
    "fh.close()\n",
    "fp.close()"
   ]
  },
  {
   "cell_type": "code",
   "execution_count": 60,
   "metadata": {
    "collapsed": false,
    "extensions": {
     "jupyter_dashboards": {
      "version": 1,
      "views": {
       "grid_default": {
        "col": 8,
        "height": 5,
        "hidden": false,
        "row": 0,
        "width": 4
       },
       "report_default": {}
      }
     }
    }
   },
   "outputs": [
    {
     "name": "stdout",
     "output_type": "stream",
     "text": [
      "Counter({'LowerCover': 40871, 'Basement': 23727, 'MiddleCover': 19420, 'UpperCover': 17365, 'out': 16558, 'Granite': 7059})\n",
      "125000\n",
      "125000\n"
     ]
    }
   ],
   "source": [
    "un_counts = collections.Counter(units)\n",
    "print(un_counts)\n",
    "print(sum(un_counts.values()))\n",
    "print(nxyz)"
   ]
  },
  {
   "cell_type": "code",
   "execution_count": 33,
   "metadata": {
    "collapsed": false
   },
   "outputs": [
    {
     "data": {
      "text/plain": [
       "{'dx': 200.0,\n",
       " 'dy': 200.0,\n",
       " 'dz': 200.0,\n",
       " 'nx': 50.0,\n",
       " 'ny': 50.0,\n",
       " 'nz': 50.0,\n",
       " 'x0': 100100.0,\n",
       " 'y0': 2000100.0,\n",
       " 'z0': -7900.0}"
      ]
     },
     "execution_count": 33,
     "metadata": {},
     "output_type": "execute_result"
    }
   ],
   "source": [
    "info"
   ]
  },
  {
   "cell_type": "code",
   "execution_count": 58,
   "metadata": {
    "collapsed": false
   },
   "outputs": [
    {
     "data": {
      "text/plain": [
       "0.07837015858284371"
      ]
     },
     "execution_count": 58,
     "metadata": {},
     "output_type": "execute_result"
    }
   ],
   "source": [
    "p0 * (1 + lapserate/t_surf * (iz*info['dz'] + info['z0']))**((-scipy.constants.g*0.0289644)/(lapserate*scipy.constants.R))"
   ]
  },
  {
   "cell_type": "code",
   "execution_count": 59,
   "metadata": {
    "collapsed": false
   },
   "outputs": [
    {
     "data": {
      "text/plain": [
       "2100.0"
      ]
     },
     "execution_count": 59,
     "metadata": {},
     "output_type": "execute_result"
    }
   ],
   "source": [
    "iz*info['dz'] + info['z0']"
   ]
  }
 ],
 "metadata": {
  "extensions": {
   "jupyter_dashboards": {
    "activeView": "grid_default",
    "version": 1,
    "views": {
     "grid_default": {
      "cellMargin": 10,
      "defaultCellHeight": 20,
      "maxColumns": 12,
      "name": "grid",
      "type": "grid"
     },
     "report_default": {
      "name": "report",
      "type": "report"
     }
    }
   }
  },
  "kernelspec": {
   "display_name": "Python 3",
   "language": "python",
   "name": "python3"
  },
  "language_info": {
   "codemirror_mode": {
    "name": "ipython",
    "version": 3
   },
   "file_extension": ".py",
   "mimetype": "text/x-python",
   "name": "python",
   "nbconvert_exporter": "python",
   "pygments_lexer": "ipython3",
   "version": "3.5.1"
  }
 },
 "nbformat": 4,
 "nbformat_minor": 0
}
