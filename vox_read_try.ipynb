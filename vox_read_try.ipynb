{
 "cells": [
  {
   "cell_type": "code",
   "execution_count": 162,
   "metadata": {
    "collapsed": false
   },
   "outputs": [],
   "source": [
    "import numpy as np\n",
    "import itertools\n",
    "import collections"
   ]
  },
  {
   "cell_type": "code",
   "execution_count": 65,
   "metadata": {
    "collapsed": false
   },
   "outputs": [
    {
     "name": "stdout",
     "output_type": "stream",
     "text": [
      "0 nx 50\n",
      "\n",
      "1 ny 50\n",
      "\n",
      "2 nz 50\n",
      "\n",
      "3 x0 100100\n",
      "\n",
      "4 y0 2.0001e+06\n",
      "\n",
      "5 z0 -7900\n",
      "\n",
      "6 dx 200\n",
      "\n",
      "7 dy 200\n",
      "\n",
      "8 dz 200\n",
      "\n",
      "Warning: Check nodata_value in line 9\n",
      "125000\n"
     ]
    }
   ],
   "source": [
    "var = {}\n",
    "with open('TutA_export.vox') as f:\n",
    "    for (i,line) in enumerate(f):\n",
    "        line.rstrip()\n",
    "        if i <= 8:\n",
    "            s = line.split()\n",
    "            try:\n",
    "                var.update({s[0]:int(s[1])})\n",
    "            except:\n",
    "                var.update({s[0]:float(s[1])})\n",
    "            print(i, line)\n",
    "            \n",
    "        if line == 'nodata_value out\\n':\n",
    "            print(\"Warning: Check nodata_value in line {}\".format(i))\n",
    "            \n",
    "        if line == 9:\n",
    "            break\n",
    "nxyz = var['nx']*var['ny']*var['nz']    \n",
    "print(nxyz)"
   ]
  },
  {
   "cell_type": "code",
   "execution_count": 136,
   "metadata": {
    "collapsed": false
   },
   "outputs": [
    {
     "name": "stdout",
     "output_type": "stream",
     "text": [
      "Warning: Check nodata_value in line 9.\n",
      "See TOP_BC_TutA_export for boundary conditions\n"
     ]
    }
   ],
   "source": [
    "with open('TutA_export.vox') as f:\n",
    "    data = [line.split() for line in f]\n",
    "    info = dict((k.strip(), float(v.strip())) for k,v in data[0:9])\n",
    "        \n",
    "    # create boundary conditions\n",
    "    if data[9] == ['nodata_value', 'out']:\n",
    "        print(\"Warning: Check nodata_value in line 9.\")\n",
    "        print(\"See TOP_BC_{} for boundary conditions\".format(f.name[:-4]))\n",
    "        units = list(itertools.chain(*data[10:]))\n",
    "    else:\n",
    "        units = list(itertools.chain(*data[9:]))"
   ]
  },
  {
   "cell_type": "code",
   "execution_count": 101,
   "metadata": {
    "collapsed": false
   },
   "outputs": [],
   "source": [
    "try:\n",
    "    fT = open(\"TOP_BC_{}.temp\".format(f.name[:-4]),'w')\n",
    "except IOError:\n",
    "    print(\"Can not open file TOP_BC_{}.temp for writing\".format(f.name[:-4]))\n",
    "    \n",
    "        "
   ]
  },
  {
   "cell_type": "code",
   "execution_count": 135,
   "metadata": {
    "collapsed": false
   },
   "outputs": [
    {
     "name": "stdout",
     "output_type": "stream",
     "text": [
      "125000\n",
      "125000\n"
     ]
    }
   ],
   "source": [
    "nxyz = int(info['nx']*info['ny']*info['nz'])\n",
    "print(nxyz)\n",
    "print(len(units))"
   ]
  },
  {
   "cell_type": "code",
   "execution_count": 170,
   "metadata": {
    "collapsed": false
   },
   "outputs": [
    {
     "name": "stdout",
     "output_type": "stream",
     "text": [
      "12520*1\n",
      "10051*2\n",
      "75010*3\n",
      "47521*4\n",
      "227866*5\n"
     ]
    }
   ],
   "source": [
    "start = 0\n",
    "mul = 0\n",
    "ix = 1\n",
    "iy = 1\n",
    "iz = 1\n",
    "n_u = 1\n",
    "unui = {}\n",
    "uind = 1\n",
    "old_u = 1\n",
    "\n",
    "for i in range(nxyz):\n",
    "    for j in range(1,n_u):\n",
    "        if units[j] in unui:\n",
    "            mul += 1\n",
    "            start = 2\n",
    "        else:\n",
    "            #print(\"{}*{}\".format(mul,old_u))\n",
    "            mul = 1\n",
    "            start = 1\n",
    "        old_u = j   \n",
    "    if units[i] not in unui:\n",
    "        unui.update({units[i]:uind})\n",
    "        uname = units[i]\n",
    "        uind += 1\n",
    "        if start == 2:\n",
    "            print(\"{}*{}\".format(mul,old_u))\n",
    "            mul = 0\n",
    "        mul += 1\n",
    "        old_u = n_u\n",
    "        n_u += 1\n",
    "        start = 1\n",
    "    else:\n",
    "        pass\n",
    "            \n",
    "            \n",
    "    if ix < info['nx']:\n",
    "        ix += 1\n",
    "    elif iy < info['ny']:\n",
    "        ix = 1\n",
    "        iy += 1\n",
    "    else:\n",
    "        ix = 1\n",
    "        iy = 1\n",
    "        iz += 1\n",
    "    "
   ]
  },
  {
   "cell_type": "code",
   "execution_count": 164,
   "metadata": {
    "collapsed": false
   },
   "outputs": [
    {
     "data": {
      "text/plain": [
       "OrderedDict([('Basement', 1),\n",
       "             ('LowerCover', 2),\n",
       "             ('MiddleCover', 3),\n",
       "             ('UpperCover', 4),\n",
       "             ('Granite', 5),\n",
       "             ('out', 6)])"
      ]
     },
     "execution_count": 164,
     "metadata": {},
     "output_type": "execute_result"
    }
   ],
   "source": [
    "collections.OrderedDict(sorted(unui.items(), key=lambda t: t[1]))\n",
    "#print(unui)"
   ]
  },
  {
   "cell_type": "code",
   "execution_count": 145,
   "metadata": {
    "collapsed": true
   },
   "outputs": [],
   "source": [
    "d = {'banana': 3, 'apple': 4, 'pear': 1, 'orange': 2}"
   ]
  },
  {
   "cell_type": "code",
   "execution_count": 152,
   "metadata": {
    "collapsed": false
   },
   "outputs": [
    {
     "name": "stdout",
     "output_type": "stream",
     "text": [
      "{'kevin': 4, 'bapple': 3, 'mapple': 1, 'bananana': 2}\n"
     ]
    }
   ],
   "source": [
    "a = ['mapple', 'bananana', 'bapple', 'kevin','mapple']\n",
    "c = 1\n",
    "d = {}\n",
    "for i in a:\n",
    "    if i not in d.keys():\n",
    "        d.update({i:c})\n",
    "        c += 1\n",
    "    else:\n",
    "        pass\n",
    "\n",
    "print(d)\n",
    "        "
   ]
  }
 ],
 "metadata": {
  "kernelspec": {
   "display_name": "Python 3",
   "language": "python",
   "name": "python3"
  },
  "language_info": {
   "codemirror_mode": {
    "name": "ipython",
    "version": 3
   },
   "file_extension": ".py",
   "mimetype": "text/x-python",
   "name": "python",
   "nbconvert_exporter": "python",
   "pygments_lexer": "ipython3",
   "version": "3.5.1"
  }
 },
 "nbformat": 4,
 "nbformat_minor": 0
}
