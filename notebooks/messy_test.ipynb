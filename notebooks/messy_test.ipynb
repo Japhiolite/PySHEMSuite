{
 "cells": [
  {
   "cell_type": "code",
   "execution_count": 1,
   "metadata": {},
   "outputs": [],
   "source": [
    "import sys,os\n",
    "sys.path.append('../')\n",
    "import Py3SHEMSuite as pys\n",
    "import numpy as np"
   ]
  },
  {
   "cell_type": "code",
   "execution_count": 3,
   "metadata": {},
   "outputs": [
    {
     "name": "stdout",
     "output_type": "stream",
     "text": [
      "Python 3, good to go!\n"
     ]
    }
   ],
   "source": [
    "s1 = pys.SHEMATSuiteFile(filename='../../Editorial-Transitional-Heatflow/models/20201022_GeoMol_erode_SHEMAT-Suite_MC_50samples/PCT_MC_0_higher_variation')"
   ]
  },
  {
   "cell_type": "code",
   "execution_count": 15,
   "metadata": {},
   "outputs": [
    {
     "name": "stdout",
     "output_type": "stream",
     "text": [
      "Python 3, good to go!\n"
     ]
    }
   ],
   "source": [
    "s2 = pys.SHEMATSuiteFile(filename='../../Editorial-Transitional-Heatflow/models/20201020_GeoMol_erode_SHEMAT-Suite_MC_20samples/PCT_MC_0')"
   ]
  },
  {
   "cell_type": "code",
   "execution_count": 16,
   "metadata": {},
   "outputs": [],
   "source": [
    "units_n = s2.get('units', line=17)"
   ]
  },
  {
   "cell_type": "code",
   "execution_count": 17,
   "metadata": {},
   "outputs": [
    {
     "data": {
      "text/plain": [
       "['0.01d-10    1.d0  1.d0  1.e-14\\t 1.e-10  1.d0  1.d0  2.8\\t0.  2077074.  10  0.5\\t!Mandach \\n',\n",
       " '0.01d-10    1.d0  1.d0  1.e-14\\t 1.e-10  1.d0  1.d0  2.8\\t0.  2077074.  10  0.5\\t!Jurathrust5 \\n',\n",
       " '0.01d-10    1.d0  1.d0  1.e-14\\t 1.e-10  1.d0  1.d0  2.8\\t0.  2077074.  10  0.5\\t!Fault_Basement_A \\n',\n",
       " '0.01d-10    1.d0  1.d0  1.e-14\\t 1.e-10  1.d0  1.d0  2.8\\t0.  2077074.  10  0.5\\t!Fault-south \\n',\n",
       " '0.01d-10    1.d0  1.d0  1.e-14\\t 1.e-10  1.d0  1.d0  2.8\\t0.  2077074.  10  0.5\\t!Vorwald_Basement \\n',\n",
       " '0.01d-10    1.d0  1.d0  1.e-14\\t 1.e-10  1.d0  1.d0  2.8\\t0.  2077074.  10  0.5\\t!BIH-Basement-N \\n',\n",
       " '0.05    1.d0  1.d0  1.e-13\\t 1.e-10  1.d0  1.d0  2.5\\t0.  2077074.  10  0.5\\t!OMM \\n',\n",
       " '0.1    1.d0  1.d0  1.e-14\\t 1.e-10  1.d0  1.d0  2.5\\t0.  2077074.  10  0.5\\t!USM \\n',\n",
       " '0.1    1.d0  1.d0  1.e-13\\t 1.e-10  1.d0  1.d0  2.8\\t0.  2077074.  10  0.5\\t!Malm \\n',\n",
       " '0.01    1.d0  1.d0  1.e-14\\t 1.e-10  1.d0  1.d0  2.8\\t0.  2077074.  10  0.5\\t!Effinger-Schichten \\n',\n",
       " '0.001    1.d0  1.d0  1.e-14\\t 1.e-10  1.d0  1.d0  2.8\\t0.  2077074.  10  0.5\\t!Dogger \\n',\n",
       " '0.001    1.d0  1.d0  1.e-18\\t 1.e-10  1.d0  1.d0  1.8\\t0.  2077074.  10  1.0\\t!Opalinuston \\n',\n",
       " '0.01    1.d0  1.d0  1.e-16\\t 1.e-10  1.d0  1.d0  2.8\\t0.  2077074.  10  0.5\\t!Keuper \\n',\n",
       " '0.10    1.d0  1.d0  1.e-13\\t 1.e-10  1.d0  1.d0  2.8\\t0.  2077074.  10  0.5\\t!Oberer-Muschelkalk \\n',\n",
       " '0.01    1.d0  1.d0  1.e-18\\t 1.e-10  1.d0  1.d0  4.5\\t0.  2077074.  10  0.5\\t!Mittlerer-Muschelkalk \\n',\n",
       " '0.05    1.d0  1.d0  1.e-15\\t 1.e-10  1.d0  1.d0  2.9\\t0.  2077074.  10  2.5\\t!graben-fill \\n',\n",
       " '0.01    1.d0  1.d0  1.e-16\\t 1.e-10  1.d0  1.d0  3.1\\t0.  2077074.  10  3.2\\t!basement \\n']"
      ]
     },
     "execution_count": 17,
     "metadata": {},
     "output_type": "execute_result"
    }
   ],
   "source": [
    "units_n"
   ]
  },
  {
   "cell_type": "code",
   "execution_count": 18,
   "metadata": {},
   "outputs": [],
   "source": [
    "s1.set('units', units_n)"
   ]
  },
  {
   "cell_type": "code",
   "execution_count": 19,
   "metadata": {},
   "outputs": [
    {
     "data": {
      "text/plain": [
       "[\"['0.01d-10    1.d0  1.d0  1.e-14\\\\t 1.e-10  1.d0  1.d0  2.8\\\\t0.  2077074.  10  0.5\\\\t!Mandach \\\\n', '0.01d-10    1.d0  1.d0  1.e-14\\\\t 1.e-10  1.d0  1.d0  2.8\\\\t0.  2077074.  10  0.5\\\\t!Jurathrust5 \\\\n', '0.01d-10    1.d0  1.d0  1.e-14\\\\t 1.e-10  1.d0  1.d0  2.8\\\\t0.  2077074.  10  0.5\\\\t!Fault_Basement_A \\\\n', '0.01d-10    1.d0  1.d0  1.e-14\\\\t 1.e-10  1.d0  1.d0  2.8\\\\t0.  2077074.  10  0.5\\\\t!Fault-south \\\\n', '0.01d-10    1.d0  1.d0  1.e-14\\\\t 1.e-10  1.d0  1.d0  2.8\\\\t0.  2077074.  10  0.5\\\\t!Vorwald_Basement \\\\n', '0.01d-10    1.d0  1.d0  1.e-14\\\\t 1.e-10  1.d0  1.d0  2.8\\\\t0.  2077074.  10  0.5\\\\t!BIH-Basement-N \\\\n', '0.05    1.d0  1.d0  1.e-13\\\\t 1.e-10  1.d0  1.d0  2.5\\\\t0.  2077074.  10  0.5\\\\t!OMM \\\\n', '0.1    1.d0  1.d0  1.e-14\\\\t 1.e-10  1.d0  1.d0  2.5\\\\t0.  2077074.  10  0.5\\\\t!USM \\\\n', '0.1    1.d0  1.d0  1.e-13\\\\t 1.e-10  1.d0  1.d0  2.8\\\\t0.  2077074.  10  0.5\\\\t!Malm \\\\n', '0.01    1.d0  1.d0  1.e-14\\\\t 1.e-10  1.d0  1.d0  2.8\\\\t0.  2077074.  10  0.5\\\\t!Effinger-Schichten \\\\n', '0.001    1.d0  1.d0  1.e-14\\\\t 1.e-10  1.d0  1.d0  2.8\\\\t0.  2077074.  10  0.5\\\\t!Dogger \\\\n', '0.001    1.d0  1.d0  1.e-18\\\\t 1.e-10  1.d0  1.d0  1.8\\\\t0.  2077074.  10  1.0\\\\t!Opalinuston \\\\n', '0.01    1.d0  1.d0  1.e-16\\\\t 1.e-10  1.d0  1.d0  2.8\\\\t0.  2077074.  10  0.5\\\\t!Keuper \\\\n', '0.10    1.d0  1.d0  1.e-13\\\\t 1.e-10  1.d0  1.d0  2.8\\\\t0.  2077074.  10  0.5\\\\t!Oberer-Muschelkalk \\\\n', '0.01    1.d0  1.d0  1.e-18\\\\t 1.e-10  1.d0  1.d0  4.5\\\\t0.  2077074.  10  0.5\\\\t!Mittlerer-Muschelkalk \\\\n', '0.05    1.d0  1.d0  1.e-15\\\\t 1.e-10  1.d0  1.d0  2.9\\\\t0.  2077074.  10  2.5\\\\t!graben-fill \\\\n', '0.01    1.d0  1.d0  1.e-16\\\\t 1.e-10  1.d0  1.d0  3.1\\\\t0.  2077074.  10  3.2\\\\t!basement \\\\n'] \\n\",\n",
       " '0.01d0    1.d0  1.d0  1.e-14\\t 1.e-10  1.d0  1.d0  3.74\\t0.  2077074.  10  2e-3\\t!Jurathrust5 \\n',\n",
       " '0.01d0    1.d0  1.d0  1.e-14\\t 1.e-10  1.d0  1.d0  3.74\\t0.  2077074.  10  2e-3\\t!Fault_Basement_A \\n',\n",
       " '0.01d0    1.d0  1.d0  1.e-14\\t 1.e-10  1.d0  1.d0  3.74\\t0.  2077074.  10  2e-3\\t!Fault-south \\n',\n",
       " '0.01d0    1.d0  1.d0  1.e-14\\t 1.e-10  1.d0  1.d0  3.74\\t0.  2077074.  10  2e-3\\t!Vorwald_Basement \\n',\n",
       " '0.01d0    1.d0  1.d0  1.e-14\\t 1.e-10  1.d0  1.d0  3.74\\t0.  2077074.  10  2e-3\\t!BIH-Basement-N \\n',\n",
       " '0.01d0    1.d0  1.d0  1.e-14\\t 1.e-10  1.d0  1.d0  3.74\\t0.  2077074.  10  2e-3\\t!OMM \\n',\n",
       " '0.01d0    1.d0  1.d0  1.e-14\\t 1.e-10  1.d0  1.d0  3.74\\t0.  2077074.  10  2e-3\\t!USM \\n',\n",
       " '0.01d0    1.d0  1.d0  1.e-14\\t 1.e-10  1.d0  1.d0  3.74\\t0.  2077074.  10  2e-3\\t!Malm \\n',\n",
       " '0.01d0    1.d0  1.d0  1.e-14\\t 1.e-10  1.d0  1.d0  3.74\\t0.  2077074.  10  2e-3\\t!Effinger-Schichten \\n',\n",
       " '0.01d0    1.d0  1.d0  1.e-14\\t 1.e-10  1.d0  1.d0  3.74\\t0.  2077074.  10  2e-3\\t!Dogger \\n',\n",
       " '0.01d0    1.d0  1.d0  1.e-14\\t 1.e-10  1.d0  1.d0  3.74\\t0.  2077074.  10  2e-3\\t!Opalinuston \\n',\n",
       " '0.01d0    1.d0  1.d0  1.e-14\\t 1.e-10  1.d0  1.d0  3.74\\t0.  2077074.  10  2e-3\\t!Keuper \\n',\n",
       " '0.01d0    1.d0  1.d0  1.e-14\\t 1.e-10  1.d0  1.d0  3.74\\t0.  2077074.  10  2e-3\\t!Oberer-Muschelkalk \\n',\n",
       " '0.01d0    1.d0  1.d0  1.e-14\\t 1.e-10  1.d0  1.d0  3.74\\t0.  2077074.  10  2e-3\\t!Mittlerer-Muschelkalk \\n',\n",
       " '0.01d0    1.d0  1.d0  1.e-14\\t 1.e-10  1.d0  1.d0  3.74\\t0.  2077074.  10  2e-3\\t!graben-fill \\n',\n",
       " '0.01d0    1.d0  1.d0  1.e-14\\t 1.e-10  1.d0  1.d0  3.74\\t0.  2077074.  10  2e-3\\t!basement \\n']"
      ]
     },
     "execution_count": 19,
     "metadata": {},
     "output_type": "execute_result"
    }
   ],
   "source": [
    "s1.get('units', line=17)"
   ]
  },
  {
   "cell_type": "code",
   "execution_count": 14,
   "metadata": {},
   "outputs": [],
   "source": [
    "units = s1.get('units', line=17)"
   ]
  },
  {
   "cell_type": "code",
   "execution_count": 5,
   "metadata": {},
   "outputs": [
    {
     "name": "stdout",
     "output_type": "stream",
     "text": [
      "creating new Input file\n",
      "Python 3, good to go!\n"
     ]
    }
   ],
   "source": [
    "s = pys.create_layercake(4,filename='test_layercake')"
   ]
  },
  {
   "cell_type": "code",
   "execution_count": 3,
   "metadata": {},
   "outputs": [
    {
     "name": "stdout",
     "output_type": "stream",
     "text": [
      "50 50 20\n"
     ]
    }
   ],
   "source": [
    "nx,ny,nz = s.get('grid').split()\n",
    "print(nx,ny,nz)"
   ]
  },
  {
   "cell_type": "code",
   "execution_count": 14,
   "metadata": {
    "collapsed": true
   },
   "outputs": [],
   "source": [
    "nx,ny,nz = [int(i) for i in s.get('grid').split()]"
   ]
  },
  {
   "cell_type": "code",
   "execution_count": 16,
   "metadata": {
    "collapsed": true
   },
   "outputs": [],
   "source": [
    "dx = int(s.get('delz').split('*')[1].rstrip())"
   ]
  },
  {
   "cell_type": "code",
   "execution_count": 5,
   "metadata": {},
   "outputs": [
    {
     "data": {
      "text/plain": [
       "['temp', 'head']"
      ]
     },
     "execution_count": 5,
     "metadata": {},
     "output_type": "execute_result"
    }
   ],
   "source": [
    "s.get('active')[1:]"
   ]
  },
  {
   "cell_type": "code",
   "execution_count": 2,
   "metadata": {},
   "outputs": [
    {
     "name": "stdout",
     "output_type": "stream",
     "text": [
      "creating new Input file\n",
      "Python 3, good to go!\n"
     ]
    }
   ],
   "source": [
    "s1 = pys.SHEMATSuiteFile()"
   ]
  },
  {
   "cell_type": "code",
   "execution_count": 3,
   "metadata": {},
   "outputs": [
    {
     "name": "stdout",
     "output_type": "stream",
     "text": [
      "Model object with these parameters: \n",
      "Number of cells \t = nx:50, ny:50, nz:20\n",
      "Cell dimensions \t = dx:50 m, dy:50 m, dz:50\n",
      "Grid extent \t \t = x:2500 m, y:2500 m, z:1000 m\n",
      " \n",
      "Property module \t = bas \n",
      "User \t \t = none \n",
      "active equations \t = active, temp\n"
     ]
    }
   ],
   "source": [
    "print(s)"
   ]
  },
  {
   "cell_type": "code",
   "execution_count": 6,
   "metadata": {},
   "outputs": [
    {
     "name": "stdout",
     "output_type": "stream",
     "text": [
      "Write new SHEMAT-Suite Input file: test_layercake\n"
     ]
    }
   ],
   "source": [
    "#s.get('uindex')\n",
    "s.write_file('test_layercake')"
   ]
  },
  {
   "cell_type": "code",
   "execution_count": 45,
   "metadata": {},
   "outputs": [
    {
     "name": "stdout",
     "output_type": "stream",
     "text": [
      "17500*1 17500*2 15000*3\n"
     ]
    }
   ],
   "source": [
    "i,j,k = s.get('grid').split()\n",
    "i = int(i)\n",
    "j = int(j)\n",
    "k = int(k)\n",
    "num_layers = 3\n",
    "thickness = np.round(k/num_layers,0)\n",
    "cum_thick = 0\n",
    "uindex = ''\n",
    "if k%num_layers == 0:\n",
    "    for num in range(1,num_layers+1):\n",
    "        uindex += str(int(thickness*i*j))+'*'+str(num)+' '\n",
    "else:\n",
    "    count = 0\n",
    "    for num in range(1,num_layers):\n",
    "        uindex += str(int(thickness*i*j))+'*'+str(num)+' '\n",
    "        count += thickness\n",
    "    uindex += str(int((k-count)*i*j))+'*'+str(num_layers)\n",
    "        \n",
    "\n",
    "print(uindex)"
   ]
  },
  {
   "cell_type": "code",
   "execution_count": 38,
   "metadata": {},
   "outputs": [
    {
     "data": {
      "text/plain": [
       "'12500*1 12500*2 12500*3 12500*4 '"
      ]
     },
     "execution_count": 38,
     "metadata": {},
     "output_type": "execute_result"
    }
   ],
   "source": [
    "uindex"
   ]
  },
  {
   "cell_type": "code",
   "execution_count": 22,
   "metadata": {},
   "outputs": [
    {
     "data": {
      "text/plain": [
       "['50', '50', '20']"
      ]
     },
     "execution_count": 22,
     "metadata": {},
     "output_type": "execute_result"
    }
   ],
   "source": [
    "s.get('grid').split()"
   ]
  },
  {
   "cell_type": "code",
   "execution_count": 10,
   "metadata": {
    "collapsed": true
   },
   "outputs": [],
   "source": [
    "units = {'!Porosity': 0.1,\n",
    "             'kxz': 1.0,\n",
    "             'kyz': 1.0,\n",
    "             'kz': 1.0e-15,\n",
    "             'Compressibility': 1.0e-10,\n",
    "             'lxz': 1.0,\n",
    "             'lyz': 1.0,\n",
    "             'lz': 2.1,\n",
    "             'Heat Prod rate': 0.4e-6,\n",
    "             'thermal capacity': 2.0e6,\n",
    "             'dispersivity': 10.0,\n",
    "             'Electric cond': 0.0,\n",
    "             'coupling coeff': 0.0,\n",
    "             'BC-parameter': 2.0,\n",
    "             'Capillary pressure': 1.0e3,\n",
    "             'res saturation non-wet': 0.05,\n",
    "             'res saturation wet': 0.2}"
   ]
  },
  {
   "cell_type": "code",
   "execution_count": 11,
   "metadata": {
    "collapsed": true
   },
   "outputs": [],
   "source": [
    "df = pys.p.DataFrame([units],columns=list(units.keys()))"
   ]
  },
  {
   "cell_type": "code",
   "execution_count": 32,
   "metadata": {
    "collapsed": true
   },
   "outputs": [],
   "source": [
    "uli = df.values.tolist()\n",
    "uli_str = df.values.tostring()"
   ]
  },
  {
   "cell_type": "code",
   "execution_count": 36,
   "metadata": {},
   "outputs": [
    {
     "data": {
      "text/plain": [
       "'!Porosity       kxz       kyz            kz  Compressibility       lxz       lyz        lz  Heat Prod rate  thermal capacity  dispersivity  Electric cond  coupling coeff  BC-parameter  Capillary pressure  res saturation non-wet  res saturation wet\\n 0.100000  1.000000  1.000000  1.000000e-15     1.000000e-10  1.000000  1.000000  2.100000    4.000000e-07      2.000000e+06     10.000000            0.0             0.0           2.0         1000.000000                    0.05                 0.2\\n 0.133693  1.024866  1.038421  1.053886e-14     7.070448e-11  1.063016  0.928950  2.266278    1.213583e-07      2.016515e+06     11.403047            0.0             0.0           2.0         1165.383887                    0.00                 0.0\\n 0.108394  1.171377  0.931213  2.500532e-15     6.796758e-11  0.832286  1.075427  2.646502    1.104198e-07      1.934352e+06     12.735079            0.0             0.0           2.0         1517.161976                    0.00                 0.0\\n 0.113574  0.958689  0.887631  6.623228e-16     1.563957e-10  0.942666  1.106903  2.184345    1.150839e-07      1.929068e+06     10.368130            0.0             0.0           2.0          913.399450                    0.00                 0.0\\n 0.165011  0.969880  0.778448  3.459284e-15     1.445463e-10  0.892125  0.975550  2.130873    1.004702e-07      1.839879e+06      6.461974            0.0             0.0           2.0         1204.476603                    0.00                 0.0\\n 0.146895  0.894883  0.809174  7.392703e-17     1.783313e-10  0.997208  0.947595  1.409973    1.243060e-07      1.871778e+06     13.818158            0.0             0.0           2.0          865.933525                    0.00                 0.0\\n 0.133370  0.906936  0.963407  4.092779e-15     4.555349e-11  0.917687  1.072761  2.251837    1.312794e-07      1.963194e+06     10.533210            0.0             0.0           2.0         1062.151023                    0.00                 0.0'"
      ]
     },
     "execution_count": 36,
     "metadata": {},
     "output_type": "execute_result"
    }
   ],
   "source": []
  },
  {
   "cell_type": "code",
   "execution_count": 39,
   "metadata": {
    "collapsed": true
   },
   "outputs": [],
   "source": [
    "s1.set('units',df.to_string(index=False,header=False))"
   ]
  },
  {
   "cell_type": "code",
   "execution_count": 40,
   "metadata": {},
   "outputs": [
    {
     "name": "stdout",
     "output_type": "stream",
     "text": [
      "Write new SHEMAT-Suite Input file: crap\n"
     ]
    }
   ],
   "source": [
    "s1.write_file('crap')"
   ]
  },
  {
   "cell_type": "code",
   "execution_count": 15,
   "metadata": {
    "code_folding": [],
    "collapsed": true
   },
   "outputs": [],
   "source": [
    "import pandas as p\n",
    "num_layers = 7\n"
   ]
  },
  {
   "cell_type": "code",
   "execution_count": 16,
   "metadata": {
    "collapsed": true
   },
   "outputs": [],
   "source": [
    "add_unit = []\n",
    "for i in range(num_layers-1):\n",
    "    add_unit.append([np.random.normal(loc=0.1,scale=0.05),\n",
    "           np.random.normal(loc=1.0,scale=0.1),\n",
    "           np.random.normal(loc=1.0,scale=0.1),\n",
    "           np.random.lognormal(mean=1.0,sigma=3)*10**-15,\n",
    "           np.random.normal(loc=1.0e-10,scale=5.0e-11),\n",
    "           np.random.normal(loc=1.0,scale=0.1),\n",
    "           np.random.normal(loc=1.0,scale=0.1),\n",
    "           np.random.normal(loc=2.2,scale=0.6),\n",
    "           np.random.normal(loc=1.0e-7,scale=2.0e-8),\n",
    "           np.random.normal(loc=2.0e6, scale=1.0e5),\n",
    "           np.random.normal(loc=10., scale=3.),\n",
    "           0.0,\n",
    "           0.0,\n",
    "           2.0,\n",
    "           np.random.normal(loc=1.0e3,scale=2.0e2),\n",
    "           0.0,\n",
    "           0.0])"
   ]
  },
  {
   "cell_type": "code",
   "execution_count": 17,
   "metadata": {
    "collapsed": true
   },
   "outputs": [],
   "source": [
    "df3 = p.DataFrame(add_unit,columns=list(units.keys()))"
   ]
  },
  {
   "cell_type": "code",
   "execution_count": 18,
   "metadata": {
    "collapsed": true
   },
   "outputs": [],
   "source": [
    "df = df.append(df3,ignore_index=True)"
   ]
  },
  {
   "cell_type": "code",
   "execution_count": 447,
   "metadata": {},
   "outputs": [
    {
     "name": "stdout",
     "output_type": "stream",
     "text": [
      "!Porosity       kxz       kyz            kz  Compressibility       lxz       lyz        lz  Heat Prod rate  thermal capacity  dispersivity  Electric cond  coupling coeff  BC-parameter  Capillary pressure  res saturation non-wet  res saturation wet\n",
      " 0.100000  1.000000  1.000000  1.000000d-15     1.000000d-10  1.000000  1.000000  2.100000    4.000000d-07      2.000000d+06     10.000000            0.0             0.0           2.0         1000.000000                    0.05                 0.2\n",
      " 0.077764  0.879592  0.879243  3.342614d-15     1.626581d-10  1.213180  1.016354  2.433633    9.577964d-08      2.185430d+06      8.497332            0.0             0.0           2.0          859.057861                    0.00                 0.0\n",
      " 0.160131  1.030543  0.971899  2.884492d-15     4.713451d-11  0.928227  1.018108  1.814461    1.050657d-07      2.028672d+06     17.484554            0.0             0.0           2.0         1171.132955                    0.00                 0.0\n",
      " 0.187154  1.108569  0.866865  2.419826d-15     4.502299d-11  1.149539  0.820395  1.378000    1.083959d-07      1.829986d+06     10.641748            0.0             0.0           2.0         1014.970236                    0.00                 0.0\n",
      " 0.101248  0.801109  0.908145  3.935331d-14     3.443553d-11  0.949375  1.049413  2.123602    7.354758d-08      1.951663d+06     10.951233            0.0             0.0           2.0          923.075729                    0.00                 0.0\n",
      " 0.113793  0.995983  1.018267  1.562947d-14     4.248207d-11  0.995501  0.961009  2.044703    1.258301d-07      1.984211d+06     11.421309            0.0             0.0           2.0          977.108490                    0.00                 0.0\n",
      " 0.142440  1.150758  0.986133  4.602045d-15     3.917598d-11  0.983796  0.986194  1.951950    8.151335d-08      1.916932d+06      7.542783            0.0             0.0           2.0          785.192629                    0.00                 0.0\n"
     ]
    }
   ],
   "source": [
    "ist = df.to_string(index=False)\n",
    "ist = ist.replace('e-','d-')\n",
    "ist = ist.replace('e+','d+')\n",
    "print(ist)\n"
   ]
  },
  {
   "cell_type": "code",
   "execution_count": 443,
   "metadata": {
    "collapsed": true
   },
   "outputs": [],
   "source": [
    "fid = open('test.txt','w')\n",
    "fid.write(df.to_string(justify='left',index=False))\n",
    "fid.close()"
   ]
  },
  {
   "cell_type": "code",
   "execution_count": 419,
   "metadata": {
    "collapsed": true
   },
   "outputs": [],
   "source": [
    "add_unit = pys.p.Series([np.random.normal(loc=0.1,scale=0.05),\n",
    "           np.random.normal(loc=1.0,scale=0.1),\n",
    "           np.random.normal(loc=1.0,scale=0.1),\n",
    "           np.random.lognormal(mean=1.0,sigma=3)*10**-15,\n",
    "           np.random.normal(loc=1.0e-10,scale=5.0e-11),\n",
    "           np.random.normal(loc=1.0,scale=0.1),\n",
    "           np.random.normal(loc=1.0,scale=0.1),\n",
    "           np.random.normal(loc=2.2,scale=0.6),\n",
    "           np.random.normal(loc=1.0e-7,scale=2.0e-8),\n",
    "           np.random.normal(loc=2.0e6, scale=1.0e5),\n",
    "           np.random.normal(loc=10., scale=3.),\n",
    "           0.0,\n",
    "           0.0,\n",
    "           2.0,\n",
    "           np.random.normal(loc=1.0e3,scale=2.0e2),\n",
    "           0.0,\n",
    "           0.0],index=list(units.keys()))"
   ]
  },
  {
   "cell_type": "code",
   "execution_count": 420,
   "metadata": {},
   "outputs": [
    {
     "data": {
      "text/html": [
       "<div>\n",
       "<table border=\"1\" class=\"dataframe\">\n",
       "  <thead>\n",
       "    <tr style=\"text-align: right;\">\n",
       "      <th></th>\n",
       "      <th>!Porosity</th>\n",
       "      <th>kxz</th>\n",
       "      <th>kyz</th>\n",
       "      <th>kz</th>\n",
       "      <th>Compressibility</th>\n",
       "      <th>lxz</th>\n",
       "      <th>lyz</th>\n",
       "      <th>lz</th>\n",
       "      <th>Heat Prod rate</th>\n",
       "      <th>thermal capacity</th>\n",
       "      <th>dispersivity</th>\n",
       "      <th>Electric cond</th>\n",
       "      <th>coupling coeff</th>\n",
       "      <th>BC-parameter</th>\n",
       "      <th>Capillary pressure</th>\n",
       "      <th>res saturation non-wet</th>\n",
       "      <th>res saturation wet</th>\n",
       "    </tr>\n",
       "  </thead>\n",
       "  <tbody>\n",
       "    <tr>\n",
       "      <th>0</th>\n",
       "      <td>0.10000</td>\n",
       "      <td>1.000000</td>\n",
       "      <td>1.000000</td>\n",
       "      <td>1.000000e-15</td>\n",
       "      <td>1.000000e-10</td>\n",
       "      <td>1.00000</td>\n",
       "      <td>1.000000</td>\n",
       "      <td>2.10000</td>\n",
       "      <td>4.000000e-07</td>\n",
       "      <td>2.000000e+06</td>\n",
       "      <td>10.000000</td>\n",
       "      <td>0.0</td>\n",
       "      <td>0.0</td>\n",
       "      <td>2.0</td>\n",
       "      <td>1000.000000</td>\n",
       "      <td>0.05</td>\n",
       "      <td>0.2</td>\n",
       "    </tr>\n",
       "    <tr>\n",
       "      <th>1</th>\n",
       "      <td>0.11912</td>\n",
       "      <td>1.110334</td>\n",
       "      <td>1.039756</td>\n",
       "      <td>1.973706e-13</td>\n",
       "      <td>1.131095e-10</td>\n",
       "      <td>0.93339</td>\n",
       "      <td>1.273202</td>\n",
       "      <td>1.20219</td>\n",
       "      <td>5.425769e-08</td>\n",
       "      <td>2.217527e+06</td>\n",
       "      <td>13.950638</td>\n",
       "      <td>0.0</td>\n",
       "      <td>0.0</td>\n",
       "      <td>2.0</td>\n",
       "      <td>636.647205</td>\n",
       "      <td>0.00</td>\n",
       "      <td>0.0</td>\n",
       "    </tr>\n",
       "  </tbody>\n",
       "</table>\n",
       "</div>"
      ],
      "text/plain": [
       "   !Porosity       kxz       kyz            kz  Compressibility      lxz  \\\n",
       "0    0.10000  1.000000  1.000000  1.000000e-15     1.000000e-10  1.00000   \n",
       "1    0.11912  1.110334  1.039756  1.973706e-13     1.131095e-10  0.93339   \n",
       "\n",
       "        lyz       lz  Heat Prod rate  thermal capacity  dispersivity  \\\n",
       "0  1.000000  2.10000    4.000000e-07      2.000000e+06     10.000000   \n",
       "1  1.273202  1.20219    5.425769e-08      2.217527e+06     13.950638   \n",
       "\n",
       "   Electric cond  coupling coeff  BC-parameter  Capillary pressure  \\\n",
       "0            0.0             0.0           2.0         1000.000000   \n",
       "1            0.0             0.0           2.0          636.647205   \n",
       "\n",
       "   res saturation non-wet  res saturation wet  \n",
       "0                    0.05                 0.2  \n",
       "1                    0.00                 0.0  "
      ]
     },
     "execution_count": 420,
     "metadata": {},
     "output_type": "execute_result"
    }
   ],
   "source": [
    "df.append(add_unit,ignore_index=True)"
   ]
  },
  {
   "cell_type": "code",
   "execution_count": 10,
   "metadata": {
    "collapsed": true
   },
   "outputs": [],
   "source": [
    "d = pys.p.DataFrame(data=units,index=np.arange(len(units)))"
   ]
  },
  {
   "cell_type": "code",
   "execution_count": null,
   "metadata": {
    "collapsed": true
   },
   "outputs": [],
   "source": [
    "import importlib\n",
    "importlib.reload(pys)\n"
   ]
  },
  {
   "cell_type": "code",
   "execution_count": null,
   "metadata": {
    "collapsed": true
   },
   "outputs": [],
   "source": [
    "f = pos.postprocess('synth_model_final.h5')"
   ]
  },
  {
   "cell_type": "code",
   "execution_count": null,
   "metadata": {
    "collapsed": true
   },
   "outputs": [],
   "source": [
    "f.print_fields()"
   ]
  },
  {
   "cell_type": "code",
   "execution_count": null,
   "metadata": {
    "collapsed": true
   },
   "outputs": [],
   "source": [
    "x = f.data['x'][0,0,:]\n",
    "z = f.data['z'][:,0,0]"
   ]
  },
  {
   "cell_type": "code",
   "execution_count": null,
   "metadata": {
    "collapsed": true
   },
   "outputs": [],
   "source": [
    "temp = f.data['temp'][:,0,:]\n",
    "import matplotlib.pyplot as plt\n",
    "%matplotlib inline\n",
    "plt.contour(x,z,temp)"
   ]
  },
  {
   "cell_type": "code",
   "execution_count": null,
   "metadata": {
    "collapsed": true
   },
   "outputs": [],
   "source": [
    "print(\"{} {} {} \".format(*f.data['uindex'].shape))"
   ]
  },
  {
   "cell_type": "code",
   "execution_count": null,
   "metadata": {
    "collapsed": true
   },
   "outputs": [],
   "source": [
    "nx = 10\n",
    "ny = 5\n",
    "nz = 5\n",
    "grid_data = [nx, ny, nz]"
   ]
  },
  {
   "cell_type": "code",
   "execution_count": 3,
   "metadata": {},
   "outputs": [
    {
     "name": "stdout",
     "output_type": "stream",
     "text": [
      "Python 3, good to go!\n"
     ]
    }
   ],
   "source": [
    "inp = pys.SHEMATSuiteFile('../SHEMAT-Suite_input_files_for_test/model1_input2')"
   ]
  },
  {
   "cell_type": "code",
   "execution_count": null,
   "metadata": {
    "collapsed": true
   },
   "outputs": [],
   "source": [
    "print(inp.get('temp init'))"
   ]
  },
  {
   "cell_type": "code",
   "execution_count": null,
   "metadata": {
    "collapsed": true
   },
   "outputs": [],
   "source": [
    "print(inp.get('grid'))\n",
    "print(inp.get('temp init'))\n",
    "print(inp.get('head init'))"
   ]
  },
  {
   "cell_type": "code",
   "execution_count": 10,
   "metadata": {},
   "outputs": [
    {
     "data": {
      "text/plain": [
       "['4000*1\\n']"
      ]
     },
     "execution_count": 10,
     "metadata": {},
     "output_type": "execute_result"
    }
   ],
   "source": [
    "l = [inp.get('uindex')]\n",
    "l"
   ]
  },
  {
   "cell_type": "code",
   "execution_count": 12,
   "metadata": {},
   "outputs": [],
   "source": [
    "lu = inp.unpack(l)"
   ]
  },
  {
   "cell_type": "code",
   "execution_count": 19,
   "metadata": {
    "collapsed": true
   },
   "outputs": [],
   "source": [
    "lu = np.array(lu)"
   ]
  },
  {
   "cell_type": "code",
   "execution_count": 20,
   "metadata": {
    "collapsed": true
   },
   "outputs": [],
   "source": [
    "lu[200:3001] = 2"
   ]
  },
  {
   "cell_type": "code",
   "execution_count": 21,
   "metadata": {},
   "outputs": [
    {
     "data": {
      "text/plain": [
       "array([1, 1, 1, ..., 1, 1, 1])"
      ]
     },
     "execution_count": 21,
     "metadata": {},
     "output_type": "execute_result"
    }
   ],
   "source": [
    "lu"
   ]
  },
  {
   "cell_type": "code",
   "execution_count": 27,
   "metadata": {},
   "outputs": [
    {
     "data": {
      "text/plain": [
       "['200*1', '2801*2', '999*1']"
      ]
     },
     "execution_count": 27,
     "metadata": {},
     "output_type": "execute_result"
    }
   ],
   "source": [
    "brumm = inp.collapse(lu)\n",
    "brumm"
   ]
  },
  {
   "cell_type": "code",
   "execution_count": 28,
   "metadata": {},
   "outputs": [
    {
     "data": {
      "text/plain": [
       "'200*1 2801*2 999*1'"
      ]
     },
     "execution_count": 28,
     "metadata": {},
     "output_type": "execute_result"
    }
   ],
   "source": [
    "' '.join(brumm)"
   ]
  },
  {
   "cell_type": "code",
   "execution_count": 29,
   "metadata": {},
   "outputs": [],
   "source": [
    "inp.set('uindex',' '.join(brumm))"
   ]
  },
  {
   "cell_type": "code",
   "execution_count": 35,
   "metadata": {},
   "outputs": [],
   "source": [
    "inp.set_array('uindex',brumm)"
   ]
  },
  {
   "cell_type": "code",
   "execution_count": 36,
   "metadata": {},
   "outputs": [
    {
     "data": {
      "text/plain": [
       "'200*1 2801*2 999*1 \\n'"
      ]
     },
     "execution_count": 36,
     "metadata": {},
     "output_type": "execute_result"
    }
   ],
   "source": [
    "inp.get('uindex')"
   ]
  },
  {
   "cell_type": "code",
   "execution_count": 18,
   "metadata": {},
   "outputs": [
    {
     "ename": "TypeError",
     "evalue": "can only assign an iterable",
     "output_type": "error",
     "traceback": [
      "\u001b[1;31m---------------------------------------------------------------------------\u001b[0m",
      "\u001b[1;31mTypeError\u001b[0m                                 Traceback (most recent call last)",
      "\u001b[1;32m<ipython-input-18-faac48987522>\u001b[0m in \u001b[0;36m<module>\u001b[1;34m()\u001b[0m\n\u001b[1;32m----> 1\u001b[1;33m \u001b[0mlu\u001b[0m\u001b[1;33m[\u001b[0m\u001b[1;36m2000\u001b[0m\u001b[1;33m:\u001b[0m\u001b[1;36m3001\u001b[0m\u001b[1;33m]\u001b[0m \u001b[1;33m=\u001b[0m \u001b[1;36m2\u001b[0m\u001b[1;33m\u001b[0m\u001b[0m\n\u001b[0m",
      "\u001b[1;31mTypeError\u001b[0m: can only assign an iterable"
     ]
    }
   ],
   "source": [
    "lus = [x if x % 2 else None for x in lu]"
   ]
  },
  {
   "cell_type": "code",
   "execution_count": null,
   "metadata": {
    "collapsed": true
   },
   "outputs": [],
   "source": [
    "l = pys.SHEMATSuiteFile()"
   ]
  },
  {
   "cell_type": "code",
   "execution_count": null,
   "metadata": {
    "collapsed": true
   },
   "outputs": [],
   "source": [
    "print(l)"
   ]
  },
  {
   "cell_type": "code",
   "execution_count": null,
   "metadata": {
    "collapsed": true
   },
   "outputs": [],
   "source": [
    "l.filelines"
   ]
  },
  {
   "cell_type": "code",
   "execution_count": null,
   "metadata": {
    "collapsed": true
   },
   "outputs": [],
   "source": [
    "nx = 10\n",
    "ny = 100\n",
    "nz = 20\n",
    "grid = [nx, ny, nz]"
   ]
  },
  {
   "cell_type": "code",
   "execution_count": null,
   "metadata": {
    "collapsed": true
   },
   "outputs": [],
   "source": [
    "lsolvef = ['1.d-12','64','300']"
   ]
  },
  {
   "cell_type": "code",
   "execution_count": null,
   "metadata": {
    "collapsed": true
   },
   "outputs": [],
   "source": [
    "l.set_array('lsolvef',lsolvef)\n",
    "l.set_array('grid',grid)"
   ]
  },
  {
   "cell_type": "code",
   "execution_count": null,
   "metadata": {
    "collapsed": true
   },
   "outputs": [],
   "source": [
    "print(l.filelines)"
   ]
  },
  {
   "cell_type": "code",
   "execution_count": null,
   "metadata": {
    "collapsed": true
   },
   "outputs": [],
   "source": [
    "print(l.filelines)\n",
    "l.set('temp', 55)\n",
    "print(l.filelines)"
   ]
  },
  {
   "cell_type": "code",
   "execution_count": null,
   "metadata": {
    "collapsed": true
   },
   "outputs": [],
   "source": [
    "inp.get('props')"
   ]
  },
  {
   "cell_type": "code",
   "execution_count": null,
   "metadata": {
    "collapsed": true
   },
   "outputs": [],
   "source": [
    "l.get('grid')"
   ]
  },
  {
   "cell_type": "code",
   "execution_count": null,
   "metadata": {
    "collapsed": true
   },
   "outputs": [],
   "source": [
    "l.write_file('test_file')"
   ]
  },
  {
   "cell_type": "code",
   "execution_count": null,
   "metadata": {
    "collapsed": true
   },
   "outputs": [],
   "source": [
    "ps.create_empty_model()"
   ]
  },
  {
   "cell_type": "code",
   "execution_count": null,
   "metadata": {
    "collapsed": true
   },
   "outputs": [],
   "source": [
    "ps_inp = ps.Shemat_file('1a.nml')"
   ]
  },
  {
   "cell_type": "code",
   "execution_count": null,
   "metadata": {
    "collapsed": true
   },
   "outputs": [],
   "source": [
    "ps_inp.get('GEOLOGY')"
   ]
  },
  {
   "cell_type": "code",
   "execution_count": 2,
   "metadata": {},
   "outputs": [
    {
     "name": "stdout",
     "output_type": "stream",
     "text": [
      "creating new Input file\n",
      "Python 3, good to go!\n"
     ]
    }
   ],
   "source": [
    "gobj = pys.SHEMATSuiteFile()"
   ]
  },
  {
   "cell_type": "code",
   "execution_count": null,
   "metadata": {
    "collapsed": true
   },
   "outputs": [],
   "source": [
    "gobj.set_array('grid', grid_data)"
   ]
  },
  {
   "cell_type": "code",
   "execution_count": 4,
   "metadata": {
    "collapsed": true
   },
   "outputs": [],
   "source": [
    "os.chdir('../voxel_files_for_test/')"
   ]
  },
  {
   "cell_type": "code",
   "execution_count": 3,
   "metadata": {},
   "outputs": [
    {
     "name": "stdout",
     "output_type": "stream",
     "text": [
      "<class 'str'> TutA_export.vox\n",
      "Warning: nodata_value in line 9.\n",
      "There are cells above the surface.\n",
      "See TOP_BC_../voxel_files_for_test/TutA_export for boundary conditions.\n"
     ]
    }
   ],
   "source": [
    "gobj.create_structure_from_voxel('../voxel_files_for_test/TutA_export.vox',ret=False)"
   ]
  },
  {
   "cell_type": "code",
   "execution_count": 9,
   "metadata": {
    "collapsed": true
   },
   "outputs": [],
   "source": [
    "outp = open('uindex_w_morken','w')\n",
    "outp.write(gobj.uindex_str)\n",
    "outp.close()"
   ]
  },
  {
   "cell_type": "code",
   "execution_count": null,
   "metadata": {
    "collapsed": true
   },
   "outputs": [],
   "source": [
    "inp = pys.SHEMATSuiteFile('model1_input2')"
   ]
  },
  {
   "cell_type": "code",
   "execution_count": 7,
   "metadata": {
    "collapsed": true
   },
   "outputs": [],
   "source": [
    "import os\n",
    "os.chdir('T:/Thomas/Geomodeler/model/test_project/')"
   ]
  },
  {
   "cell_type": "code",
   "execution_count": 8,
   "metadata": {},
   "outputs": [
    {
     "name": "stdout",
     "output_type": "stream",
     "text": [
      "Warning: nodata_value in line 9.\n",
      "There are cells above the surface.\n",
      "See TOP_BC_model3d for boundary conditions.\n"
     ]
    }
   ],
   "source": [
    "gobj.create_structure_from_voxel('model3d.vox',ret=False)"
   ]
  },
  {
   "cell_type": "code",
   "execution_count": null,
   "metadata": {
    "collapsed": true
   },
   "outputs": [],
   "source": [
    "gobj.set('uindex',gobj.uindex_str)"
   ]
  },
  {
   "cell_type": "code",
   "execution_count": null,
   "metadata": {
    "collapsed": true
   },
   "outputs": [],
   "source": [
    "gobj.info"
   ]
  },
  {
   "cell_type": "code",
   "execution_count": null,
   "metadata": {
    "collapsed": true
   },
   "outputs": [],
   "source": [
    "inp.get(\"grid\").split()"
   ]
  },
  {
   "cell_type": "code",
   "execution_count": null,
   "metadata": {
    "collapsed": true
   },
   "outputs": [],
   "source": [
    "inp.idim[1].split()[2]"
   ]
  },
  {
   "cell_type": "code",
   "execution_count": null,
   "metadata": {
    "collapsed": true
   },
   "outputs": [],
   "source": [
    "gobj.set_nxny(10,15)"
   ]
  },
  {
   "cell_type": "code",
   "execution_count": null,
   "metadata": {
    "collapsed": true
   },
   "outputs": [],
   "source": [
    "gobj.get_nxny()"
   ]
  },
  {
   "cell_type": "code",
   "execution_count": null,
   "metadata": {
    "collapsed": true
   },
   "outputs": [],
   "source": [
    "gobj.set_dxdy(50,25)"
   ]
  },
  {
   "cell_type": "code",
   "execution_count": null,
   "metadata": {
    "collapsed": true
   },
   "outputs": [],
   "source": [
    "import numpy as np\n",
    "grid_data = np.random.randint(0,10,size= (gobj._nx, gobj._ny))"
   ]
  },
  {
   "cell_type": "code",
   "execution_count": null,
   "metadata": {
    "collapsed": true
   },
   "outputs": [],
   "source": [
    "gobj.set_grid(grid_data)"
   ]
  },
  {
   "cell_type": "code",
   "execution_count": null,
   "metadata": {
    "collapsed": true
   },
   "outputs": [],
   "source": [
    "gobj.get_grid()"
   ]
  },
  {
   "cell_type": "code",
   "execution_count": null,
   "metadata": {
    "collapsed": true
   },
   "outputs": [],
   "source": [
    "import matplotlib.pyplot as plt\n",
    "%matplotlib inline\n",
    "plt.imshow(gobj.get_grid(), cmap='viridis', interpolation='nearest')"
   ]
  },
  {
   "cell_type": "code",
   "execution_count": null,
   "metadata": {
    "collapsed": true
   },
   "outputs": [],
   "source": [
    "fi = pys.SHEMATSuiteFile('Input1')"
   ]
  },
  {
   "cell_type": "code",
   "execution_count": null,
   "metadata": {
    "collapsed": true
   },
   "outputs": [],
   "source": [
    "modInfo, uind = fi.voxel_input('TutA_export.vox')"
   ]
  },
  {
   "cell_type": "code",
   "execution_count": null,
   "metadata": {
    "collapsed": true
   },
   "outputs": [],
   "source": [
    "reload(pys)"
   ]
  },
  {
   "cell_type": "code",
   "execution_count": null,
   "metadata": {
    "collapsed": true
   },
   "outputs": [],
   "source": [
    "fi.read_monitor('conv_sgsim_E0_monitor_1.dat')"
   ]
  },
  {
   "cell_type": "code",
   "execution_count": null,
   "metadata": {
    "collapsed": true
   },
   "outputs": [],
   "source": [
    "import sys"
   ]
  },
  {
   "cell_type": "code",
   "execution_count": null,
   "metadata": {
    "collapsed": true
   },
   "outputs": [],
   "source": [
    "import fileinput"
   ]
  },
  {
   "cell_type": "code",
   "execution_count": null,
   "metadata": {
    "collapsed": true
   },
   "outputs": [],
   "source": [
    "\n",
    "if sys.version_info[0] == 3:\n",
    "    # replace any % comments with\n",
    "    with fileinput.FileInput(filename, inplace=True, backup='.bak') as fid:\n",
    "        for line in fid:\n",
    "            line.replace('%', '')\n",
    "elif sys.version_info[0] == 2:\n",
    "    print(\"Seems you still work with Python 2.7.\")\n",
    "    print(\"You should consider moving to Version 3.x\")\n",
    "    fid = fileinput.input(files=('conv_sgsim_E0_monitor_1.dat'), inplace=True, backup='.bak')\n",
    "    for line in fid:\n",
    "        line.replace('%', '')"
   ]
  },
  {
   "cell_type": "code",
   "execution_count": null,
   "metadata": {
    "collapsed": true
   },
   "outputs": [],
   "source": [
    "sys.version_info.major"
   ]
  }
 ],
 "metadata": {
  "anaconda-cloud": {},
  "hide_input": false,
  "kernelspec": {
   "display_name": "Python [conda env:env_datasci]",
   "language": "python",
   "name": "conda-env-env_datasci-py"
  },
  "language_info": {
   "codemirror_mode": {
    "name": "ipython",
    "version": 3
   },
   "file_extension": ".py",
   "mimetype": "text/x-python",
   "name": "python",
   "nbconvert_exporter": "python",
   "pygments_lexer": "ipython3",
   "version": "3.7.8"
  },
  "latex_envs": {
   "LaTeX_envs_menu_present": true,
   "autoclose": false,
   "autocomplete": true,
   "bibliofile": "biblio.bib",
   "cite_by": "apalike",
   "current_citInitial": 1,
   "eqLabelWithNumbers": true,
   "eqNumInitial": 1,
   "hotkeys": {
    "equation": "Ctrl-E",
    "itemize": "Ctrl-I"
   },
   "labels_anchors": false,
   "latex_user_defs": false,
   "report_style_numbering": false,
   "user_envs_cfg": false
  },
  "toc": {
   "colors": {
    "hover_highlight": "#DAA520",
    "running_highlight": "#FF0000",
    "selected_highlight": "#FFD700"
   },
   "moveMenuLeft": true,
   "nav_menu": {
    "height": "12px",
    "width": "252px"
   },
   "navigate_menu": true,
   "number_sections": true,
   "sideBar": true,
   "threshold": 4,
   "toc_cell": false,
   "toc_section_display": "block",
   "toc_window_display": false
  },
  "varInspector": {
   "cols": {
    "lenName": 16,
    "lenType": 16,
    "lenVar": 40
   },
   "kernels_config": {
    "python": {
     "delete_cmd_postfix": "",
     "delete_cmd_prefix": "del ",
     "library": "var_list.py",
     "varRefreshCmd": "print(var_dic_list())"
    },
    "r": {
     "delete_cmd_postfix": ") ",
     "delete_cmd_prefix": "rm(",
     "library": "var_list.r",
     "varRefreshCmd": "cat(var_dic_list()) "
    }
   },
   "types_to_exclude": [
    "module",
    "function",
    "builtin_function_or_method",
    "instance",
    "_Feature"
   ],
   "window_display": false
  }
 },
 "nbformat": 4,
 "nbformat_minor": 1
}
